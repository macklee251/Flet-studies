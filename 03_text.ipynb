{
 "cells": [
  {
   "cell_type": "code",
   "execution_count": 1,
   "metadata": {},
   "outputs": [],
   "source": [
    "import flet as ft"
   ]
  },
  {
   "cell_type": "code",
   "execution_count": 2,
   "metadata": {},
   "outputs": [
    {
     "name": "stderr",
     "output_type": "stream",
     "text": [
      "/Users/macklee/.julia/conda/3/aarch64/lib/python3.10/site-packages/flet_core/text.py:176: UserWarning: If you wish to set the TextThemeStyle, use `Text.theme_style` instead. The `Text.style` property should be used to set the TextStyle only.\n",
      "  self.style = style\n"
     ]
    }
   ],
   "source": [
    "link_style = ft.TextStyle(color=ft.colors.BLUE, decoration=ft.TextDecoration.UNDERLINE)\n",
    "\n",
    "def main(page: ft.page):\n",
    "    t1 = ft.Text(\n",
    "        value=\"Ola! Como esta sendo o seu dia hoje? Estou preocupado com você\",\n",
    "        style=ft.TextThemeStyle.DISPLAY_LARGE,\n",
    "        size=20,\n",
    "        weight=ft.FontWeight.BOLD,\n",
    "        text_align=ft.TextAlign.JUSTIFY,\n",
    "        bgcolor=ft.colors.WHITE,\n",
    "        color=ft.colors.BLUE,\n",
    "        font_family='Kanit',\n",
    "        italic=False,\n",
    "        #max_lines=2,\n",
    "        #overflow=ft.TextOverflow.ELLIPSIS,\n",
    "        #no_wrap=False,\n",
    "        #selectable=True,\n",
    "    )\n",
    "    \n",
    "    t2 = ft.Text(\n",
    "        spans=[\n",
    "            ft.TextSpan(text='Texto com link', style=link_style, url='https://www.google.com'),\n",
    "            ft.TextSpan(text=' continuação do texto '),\n",
    "            ft.TextSpan(text='Texto em destaque '),\n",
    "        ],\n",
    "        size=20,\n",
    "    )\n",
    "    \n",
    "\n",
    "    page.add(t1, t2)\n",
    "    \n",
    "ft.app(target=main)"
   ]
  },
  {
   "cell_type": "code",
   "execution_count": null,
   "metadata": {},
   "outputs": [],
   "source": []
  },
  {
   "cell_type": "code",
   "execution_count": null,
   "metadata": {},
   "outputs": [],
   "source": []
  }
 ],
 "metadata": {
  "kernelspec": {
   "display_name": "base",
   "language": "python",
   "name": "python3"
  },
  "language_info": {
   "codemirror_mode": {
    "name": "ipython",
    "version": 3
   },
   "file_extension": ".py",
   "mimetype": "text/x-python",
   "name": "python",
   "nbconvert_exporter": "python",
   "pygments_lexer": "ipython3",
   "version": "3.10.12"
  }
 },
 "nbformat": 4,
 "nbformat_minor": 2
}
