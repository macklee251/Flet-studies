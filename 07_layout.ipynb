{
 "cells": [
  {
   "cell_type": "code",
   "execution_count": 14,
   "metadata": {},
   "outputs": [],
   "source": [
    "import flet as ft"
   ]
  },
  {
   "cell_type": "code",
   "execution_count": 17,
   "metadata": {},
   "outputs": [],
   "source": [
    "def main(page: ft.page):\n",
    "    # page.padding=ft.padding.only(top=100, left=50)\n",
    "    row1 = ft.Row(\n",
    "        controls=[\n",
    "            ft.ElevatedButton(text=\"1\", bgcolor=ft.colors.GREEN, color=ft.colors.WHITE),\n",
    "            ft.ElevatedButton(text=\"2\", bgcolor=ft.colors.GREEN, color=ft.colors.WHITE),\n",
    "            ft.ElevatedButton(text=\"3\", bgcolor=ft.colors.GREEN, color=ft.colors.WHITE),\n",
    "        ],\n",
    "        alignment=ft.MainAxisAlignment.CENTER\n",
    "    )\n",
    "    row2 = ft.Row(\n",
    "        controls=[\n",
    "            ft.ElevatedButton(text=\"1\", bgcolor=ft.colors.GREEN, color=ft.colors.WHITE),\n",
    "            ft.ElevatedButton(text=\"2\", bgcolor=ft.colors.GREEN, color=ft.colors.WHITE),\n",
    "            ft.ElevatedButton(text=\"3\", bgcolor=ft.colors.GREEN, color=ft.colors.WHITE),\n",
    "        ],\n",
    "        alignment=ft.MainAxisAlignment.SPACE_EVENLY,\n",
    "    )\n",
    "    \n",
    "    row3 = ft.Row(\n",
    "        controls=[\n",
    "            ft.ElevatedButton(text=\"1\", bgcolor=ft.colors.GREEN, color=ft.colors.WHITE),\n",
    "            ft.ElevatedButton(text=\"2\", bgcolor=ft.colors.GREEN, color=ft.colors.WHITE),\n",
    "            ft.ElevatedButton(text=\"3\", bgcolor=ft.colors.GREEN, color=ft.colors.WHITE),\n",
    "        ],\n",
    "        alignment=ft.MainAxisAlignment.START,\n",
    "        spacing=100,\n",
    "        wrap=False,\n",
    "        run_spacing=100,\n",
    "        scroll=ft.ScrollMode.AUTO\n",
    "    )\n",
    "    \n",
    "    row4 = ft.Row(\n",
    "        controls=[\n",
    "            ft.ElevatedButton(text=\"1\", bgcolor=ft.colors.GREEN, color=ft.colors.WHITE),\n",
    "            ft.ElevatedButton(text=\"2\", bgcolor=ft.colors.GREEN, color=ft.colors.WHITE),\n",
    "            ft.ElevatedButton(text=\"3\", bgcolor=ft.colors.GREEN, color=ft.colors.WHITE),\n",
    "        ],\n",
    "        alignment=ft.MainAxisAlignment.START,\n",
    "        vertical_alignment=ft.CrossAxisAlignment.END,\n",
    "        expand=True\n",
    "    )\n",
    "    \n",
    "    btn1=ft.ElevatedButton(text=\"1\", bgcolor=ft.colors.GREEN, color=ft.colors.WHITE)\n",
    "    btn2=ft.ElevatedButton(text=\"2\", bgcolor=ft.colors.GREEN, color=ft.colors.WHITE)\n",
    "    btn3=ft.ElevatedButton(text=\"3\", bgcolor=ft.colors.GREEN, color=ft.colors.WHITE)\n",
    "    \n",
    "    \n",
    "    page.add(row1, row2, row3, row4, btn1, btn2, btn3)\n",
    "\n",
    "ft.app(target=main)"
   ]
  },
  {
   "cell_type": "markdown",
   "metadata": {},
   "source": [
    "### ResponsiveRow"
   ]
  },
  {
   "cell_type": "code",
   "execution_count": 20,
   "metadata": {},
   "outputs": [],
   "source": [
    "def main(page=ft.Page):\n",
    "    row1 = ft.ResponsiveRow(\n",
    "        columns=12,\n",
    "        controls=[\n",
    "            ft.ElevatedButton(\n",
    "                col={'sm': 12, 'md': 4},\n",
    "                text='1',\n",
    "                bgcolor=ft.colors.AMBER,\n",
    "                color=ft.colors.BLACK,\n",
    "            ),\n",
    "            ft.ElevatedButton(\n",
    "                col=4,\n",
    "                text='2',\n",
    "                bgcolor=ft.colors.AMBER,\n",
    "                color=ft.colors.BLACK,\n",
    "            ),\n",
    "            ft.ElevatedButton(\n",
    "                col=4,\n",
    "                text='3',\n",
    "                bgcolor=ft.colors.AMBER,\n",
    "                color=ft.colors.BLACK,\n",
    "            )\n",
    "        ]\n",
    "    )\n",
    "    \n",
    "    text = ft.Text()\n",
    "    \n",
    "    def page_size(e):\n",
    "        text.value = f'Largura: {page.window_width}, Altura: {page.window_height}'\n",
    "        text.update()\n",
    "        \n",
    "    page.on_resize = page_size\n",
    "    \n",
    "    page.add(row1, text)\n",
    "\n",
    "ft.app(target=main)    "
   ]
  },
  {
   "cell_type": "markdown",
   "metadata": {},
   "source": [
    "### Column"
   ]
  },
  {
   "cell_type": "code",
   "execution_count": 26,
   "metadata": {},
   "outputs": [],
   "source": [
    "def main(page=ft.Page):\n",
    "    col1 = ft.Column(\n",
    "        controls=[\n",
    "            ft.ElevatedButton(\n",
    "                text='1',\n",
    "                bgcolor=ft.colors.AMBER,\n",
    "                color=ft.colors.BLACK,\n",
    "            ),\n",
    "            ft.ElevatedButton(\n",
    "                text='2',\n",
    "                bgcolor=ft.colors.AMBER,\n",
    "                color=ft.colors.BLACK,\n",
    "            ),\n",
    "            ft.ElevatedButton(\n",
    "                text='3',\n",
    "                bgcolor=ft.colors.AMBER,\n",
    "                color=ft.colors.BLACK,\n",
    "            )\n",
    "        ],\n",
    "        alignment=ft.MainAxisAlignment.SPACE_AROUND\n",
    "        )\n",
    "    \n",
    "    page.add(ft.Container(col1, bgcolor=ft.colors.AMBER_100, expand=True))\n",
    "\n",
    "\n",
    "ft.app(target=main)  "
   ]
  },
  {
   "cell_type": "code",
   "execution_count": null,
   "metadata": {},
   "outputs": [],
   "source": []
  }
 ],
 "metadata": {
  "kernelspec": {
   "display_name": "Python 3",
   "language": "python",
   "name": "python3"
  },
  "language_info": {
   "codemirror_mode": {
    "name": "ipython",
    "version": 3
   },
   "file_extension": ".py",
   "mimetype": "text/x-python",
   "name": "python",
   "nbconvert_exporter": "python",
   "pygments_lexer": "ipython3",
   "version": "3.10.12"
  }
 },
 "nbformat": 4,
 "nbformat_minor": 2
}
