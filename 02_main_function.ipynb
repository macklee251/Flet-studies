{
 "cells": [
  {
   "cell_type": "code",
   "execution_count": 1,
   "metadata": {},
   "outputs": [],
   "source": [
    "import flet as ft"
   ]
  },
  {
   "cell_type": "code",
   "execution_count": 65,
   "metadata": {},
   "outputs": [],
   "source": [
    "def main(page: ft.page):\n",
    "    page.title = 'Flet app'\n",
    "    page.window_always_on_top = True\n",
    "    page.window_tittle_bar_hidden = True\n",
    "    page.window_width = 800\n",
    "    page.window_height = 600\n",
    "    page.window_min_width = 600\n",
    "    page.window_min_height = 600\n",
    "    page.window_resizable = True\n",
    "    page.window_top = 100\n",
    "    page.window_left = 100\n",
    "    page.window_movable = True\n",
    "    page.window_prevent_close = False\n",
    "    page.bgcolor = \"white\"\n",
    "    page.bgcolor = ft.colors.AMBER\n",
    "    page.bgcolor = \"#ffffff\"\n",
    "    # page.bgcolor = RGB(255, 255, 255) o flet não aceita essa forma\n",
    "    \n",
    "    page.horizontal_alignment = ft.CrossAxisAlignment.STRETCH    \n",
    "    page.vertical_alignment = ft.MainAxisAlignment.SPACE_EVENLY\n",
    "    \n",
    "    \n",
    "    page.padding = ft.padding.all(20)\n",
    "    page.spacing = 10\n",
    "    \n",
    "    \n",
    "    page.add(\n",
    "        ft.Text(value=\"texto1\", bgcolor='red'),\n",
    "        ft.Container(ft.Text(value=\"texto2\"), bgcolor='black')\n",
    "    )\n",
    "    \n",
    "    page.update()\n",
    "\n",
    "ft.app(target=main)"
   ]
  },
  {
   "cell_type": "code",
   "execution_count": null,
   "metadata": {},
   "outputs": [],
   "source": []
  },
  {
   "cell_type": "code",
   "execution_count": null,
   "metadata": {},
   "outputs": [],
   "source": []
  }
 ],
 "metadata": {
  "kernelspec": {
   "display_name": "base",
   "language": "python",
   "name": "python3"
  },
  "language_info": {
   "codemirror_mode": {
    "name": "ipython",
    "version": 3
   },
   "file_extension": ".py",
   "mimetype": "text/x-python",
   "name": "python",
   "nbconvert_exporter": "python",
   "pygments_lexer": "ipython3",
   "version": "3.10.12"
  }
 },
 "nbformat": 4,
 "nbformat_minor": 2
}
