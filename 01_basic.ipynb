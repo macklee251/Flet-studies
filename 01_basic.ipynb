{
 "cells": [
  {
   "cell_type": "code",
   "execution_count": 1,
   "metadata": {},
   "outputs": [],
   "source": [
    "import flet as ft\n",
    "from flet import page, Text, Row, TextField, ElevatedButton"
   ]
  },
  {
   "cell_type": "markdown",
   "metadata": {},
   "source": [
    "# Estrutura básica"
   ]
  },
  {
   "cell_type": "code",
   "execution_count": 6,
   "metadata": {},
   "outputs": [],
   "source": [
    "def main(page: ft.Page):\n",
    "    pass \n",
    "\n",
    "ft.app(target=main)"
   ]
  },
  {
   "cell_type": "markdown",
   "metadata": {},
   "source": [
    "# Controles são os nossos widgets"
   ]
  },
  {
   "cell_type": "code",
   "execution_count": 14,
   "metadata": {},
   "outputs": [],
   "source": [
    "def main(page: ft.Page):\n",
    "    text = Text(\"Hello, World!\", color=\"green\")\n",
    "    page.controls.append(text)         # Podemos substituir esses dois comandos por page.add(text)\n",
    "    page.update()\n",
    "    # page.add(text)\n",
    "\n",
    "ft.app(target=main)"
   ]
  },
  {
   "cell_type": "code",
   "execution_count": null,
   "metadata": {},
   "outputs": [],
   "source": [
    "from time import sleep\n",
    "def main(page: ft.Page):\n",
    "    t = Text(\"\")\n",
    "    page.add(t)\n",
    "    \n",
    "    for i in range(10):\n",
    "        t.value = f\"Step {i}\"\n",
    "        page.update()\n",
    "        sleep(1)\n",
    "\n",
    "ft.app(target=main)"
   ]
  },
  {
   "cell_type": "markdown",
   "metadata": {},
   "source": [
    "Alguns controles são container os quais podem conter outros controles."
   ]
  },
  {
   "cell_type": "code",
   "execution_count": 16,
   "metadata": {},
   "outputs": [],
   "source": [
    "def main(page: ft.Page):\n",
    "    page.add(\n",
    "        Row(\n",
    "            controls=[\n",
    "                Text(\"A\"),\n",
    "                Text(\"B\"),\n",
    "                Text(\"C\")\n",
    "            ]\n",
    "        )\n",
    "    )\n",
    "ft.app(target=main)"
   ]
  },
  {
   "cell_type": "code",
   "execution_count": 4,
   "metadata": {},
   "outputs": [],
   "source": [
    "def main(page: ft.Page):\n",
    "    \n",
    "    def button_clicked(e):\n",
    "        page.add(Text(\"Clicked\"))\n",
    "    \n",
    "    page.add(\n",
    "        Row(\n",
    "            controls=[\n",
    "                TextField(label=\"text field\"),\n",
    "                ElevatedButton(text=\"button\", on_click=button_clicked)\n",
    "            ]\n",
    "        )\n",
    "    )\n",
    "ft.app(target=main)"
   ]
  },
  {
   "cell_type": "code",
   "execution_count": null,
   "metadata": {},
   "outputs": [],
   "source": []
  }
 ],
 "metadata": {
  "kernelspec": {
   "display_name": "base",
   "language": "python",
   "name": "python3"
  },
  "language_info": {
   "codemirror_mode": {
    "name": "ipython",
    "version": 3
   },
   "file_extension": ".py",
   "mimetype": "text/x-python",
   "name": "python",
   "nbconvert_exporter": "python",
   "pygments_lexer": "ipython3",
   "version": "3.10.12"
  }
 },
 "nbformat": 4,
 "nbformat_minor": 2
}
