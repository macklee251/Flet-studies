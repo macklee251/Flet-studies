{
 "cells": [
  {
   "cell_type": "code",
   "execution_count": 23,
   "metadata": {},
   "outputs": [],
   "source": [
    "import flet as ft"
   ]
  },
  {
   "cell_type": "markdown",
   "metadata": {},
   "source": [
    "### ElevatedBbutton"
   ]
  },
  {
   "cell_type": "code",
   "execution_count": 17,
   "metadata": {},
   "outputs": [],
   "source": [
    "def main(page: ft.page):\n",
    "    page.spacing = 10\n",
    "    btn1 = ft.ElevatedButton(text=\"Botão ativo!\")\n",
    "    btn2 = ft.ElevatedButton(text=\"Botão inativo!\", disabled=True)\n",
    "    btn3 = ft.ElevatedButton(text=\"Botão com icone!\", icon = ft.icons.FAVORITE)\n",
    "    btn4 = ft.ElevatedButton(\n",
    "        text=\"Demais propriedades\",\n",
    "        bgcolor=\"red\",\n",
    "        color=\"white\",\n",
    "        elevation=8,\n",
    "        tooltip=\"Texto auxiliar\",\n",
    "        url=\"https://www.google.com\"\n",
    "        )\n",
    "    \n",
    "    style = ft.ButtonStyle(\n",
    "        color={\n",
    "            ft.MaterialState.DEFAULT: ft.colors.WHITE,\n",
    "            ft.MaterialState.HOVERED: ft.colors.BLUE,\n",
    "        },\n",
    "        bgcolor={\n",
    "            ft.MaterialState.DEFAULT: ft.colors.BLUE,\n",
    "            ft.MaterialState.HOVERED: ft.colors.WHITE,\n",
    "            ft.MaterialState.PRESSED: ft.colors.GREEN,\n",
    "            ft.MaterialState.DISABLED: ft.colors.GREY,\n",
    "        },\n",
    "        padding={\n",
    "            ft.MaterialState.DEFAULT: (10),\n",
    "            ft.MaterialState.HOVERED: (20),\n",
    "        },\n",
    "        animation_duration=50000,\n",
    "        side={\n",
    "            ft.MaterialState.DEFAULT: ft.BorderSide(5, ft.colors.GREEN),\n",
    "        },\n",
    "        shape={\n",
    "            ft.MaterialState.DEFAULT: ft.RoundedRectangleBorder(radius=2),\n",
    "        }\n",
    "        )\n",
    "    \n",
    "    btn5 = ft.ElevatedButton(\n",
    "        text=\"Botão com estilo personalizado\",\n",
    "        style=style,\n",
    "        )\n",
    "    \n",
    "    def button_clicked(e):\n",
    "        e.control.data += 1\n",
    "        text.value = f\"Botão clicado {e.control.data} vezes\"\n",
    "        text.update()\n",
    "        e.control.update()\n",
    "        \n",
    "    btn = ft.ElevatedButton(\n",
    "        text='Botão com contagem de cliques',\n",
    "        on_click=button_clicked,\n",
    "        data=0,\n",
    "    )\n",
    "    text = ft.Text()\n",
    "    \n",
    "    page.add(btn1, btn2, btn3, btn4, btn5, btn, text)\n",
    "\n",
    "ft.app(target=main)"
   ]
  },
  {
   "cell_type": "markdown",
   "metadata": {},
   "source": [
    "### FilledButton"
   ]
  },
  {
   "cell_type": "code",
   "execution_count": 22,
   "metadata": {},
   "outputs": [],
   "source": [
    "def main(page: ft.page):\n",
    "    page.spacing = 10\n",
    "    btn1 = ft.FilledButton(text=\"Botão ativo!\")\n",
    "    btn2 = ft.FilledButton(text=\"Botão com icone!\", icon=ft.icons.FAVORITE, icon_color=ft.colors.RED)\n",
    "    \n",
    "    \n",
    "    page.add(btn1, btn2)\n",
    "\n",
    "ft.app(target=main)"
   ]
  },
  {
   "cell_type": "markdown",
   "metadata": {},
   "source": [
    "### FilledTonalButton"
   ]
  },
  {
   "cell_type": "code",
   "execution_count": 28,
   "metadata": {},
   "outputs": [],
   "source": [
    "def main(page: ft.page):\n",
    "    btn1 = ft.FilledTonalButton(text=\"Botão ativo!\")\n",
    "    page.add(btn1)\n",
    "    page.add(\n",
    "        ft.FilledTonalButton(text=\"Botão com icone!\", icon=ft.icons.ADD, icon_color=ft.colors.BLUE, tooltip=\"tooltip\")\n",
    "    )\n",
    "    \n",
    "ft.app(target=main)"
   ]
  },
  {
   "cell_type": "markdown",
   "metadata": {},
   "source": [
    "### FloatActionButton"
   ]
  },
  {
   "cell_type": "code",
   "execution_count": 58,
   "metadata": {},
   "outputs": [],
   "source": [
    "def main(page: ft.page):\n",
    "    page.floating_action_button = ft.FloatingActionButton(\n",
    "        icon=ft.icons.ADD, \n",
    "        mini=True, \n",
    "        shape=ft.CircleBorder(),\n",
    "        on_click=lambda _: print(\"Botão clicado\")\n",
    "    )\n",
    "    page.update()\n",
    "\n",
    "ft.app(target=main)"
   ]
  },
  {
   "cell_type": "markdown",
   "metadata": {},
   "source": [
    "### IconButton"
   ]
  },
  {
   "cell_type": "code",
   "execution_count": 72,
   "metadata": {},
   "outputs": [],
   "source": [
    "def main(page: ft.page):\n",
    "    btn1=ft.IconButton(\n",
    "        icon=ft.icons.DELETE_FOREVER_ROUNDED,\n",
    "        icon_color=ft.colors.RED,\n",
    "        icon_size=40,\n",
    "        tooltip=\"Apagar\",\n",
    "    )\n",
    "    \n",
    "    def play_pause(e):\n",
    "        e.controls.selected = not e.controls.selected\n",
    "        e.controls.update()\n",
    "\n",
    "    btn2 = ft.IconButton(\n",
    "        icon=ft.icons.PLAY_CIRCLE,\n",
    "        selected_icon=ft.icons.PAUSE_CIRCLE,\n",
    "        selected=True,\n",
    "        icon_size=40,\n",
    "        on_click=play_pause,\n",
    "    )\n",
    "    \n",
    "    page.add(btn1, btn2)\n",
    "\n",
    "ft.app(target=main)"
   ]
  },
  {
   "cell_type": "markdown",
   "metadata": {},
   "source": [
    "### PopupMenuButton"
   ]
  },
  {
   "cell_type": "code",
   "execution_count": 74,
   "metadata": {},
   "outputs": [],
   "source": [
    "def main(page: ft.page):\n",
    "    pb = ft.PopupMenuButton(\n",
    "        icon=ft.icons.MENU_BOOK,\n",
    "        items=[\n",
    "            ft.PopupMenuItem(text=\"Item 1\"),\n",
    "            ft.PopupMenuItem(text=\"Item 1\", icon=ft.icons.POWER_INPUT),\n",
    "            \n",
    "        ]\n",
    "    )\n",
    "    page.add(pb)\n",
    "    \n",
    "    \n",
    "ft.app(target=main)"
   ]
  },
  {
   "cell_type": "code",
   "execution_count": null,
   "metadata": {},
   "outputs": [],
   "source": [
    " "
   ]
  }
 ],
 "metadata": {
  "kernelspec": {
   "display_name": "Python 3",
   "language": "python",
   "name": "python3"
  },
  "language_info": {
   "codemirror_mode": {
    "name": "ipython",
    "version": 3
   },
   "file_extension": ".py",
   "mimetype": "text/x-python",
   "name": "python",
   "nbconvert_exporter": "python",
   "pygments_lexer": "ipython3",
   "version": "3.10.12"
  }
 },
 "nbformat": 4,
 "nbformat_minor": 2
}
