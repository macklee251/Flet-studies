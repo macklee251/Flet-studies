{
 "cells": [
  {
   "cell_type": "code",
   "execution_count": 4,
   "metadata": {},
   "outputs": [],
   "source": [
    "import flet as ft"
   ]
  },
  {
   "cell_type": "markdown",
   "metadata": {},
   "source": [
    "### ElevatedBbutton"
   ]
  },
  {
   "cell_type": "code",
   "execution_count": 32,
   "metadata": {},
   "outputs": [],
   "source": [
    "def main(page: ft.page):\n",
    "    page.spacing = 10\n",
    "    btn1 = ft.ElevatedButton(text=\"Botão ativo!\")\n",
    "    btn2 = ft.ElevatedButton(text=\"Botão inativo!\", disabled=True)\n",
    "    btn3 = ft.ElevatedButton(text=\"Botão com icone!\", icon = ft.icons.FAVORITE)\n",
    "    btn4 = ft.ElevatedButton(\n",
    "        text=\"Demais propriedades\",\n",
    "        bgcolor=\"red\",\n",
    "        color=\"white\",\n",
    "        elevation=8,\n",
    "        tooltip=\"Texto auxiliar\",\n",
    "        url=\"https://www.google.com\"\n",
    "        )\n",
    "    \n",
    "    style = ft.ButtonStyle(\n",
    "        color={\n",
    "            ft.MaterialState.DEFAULT: ft.colors.WHITE,\n",
    "            ft.MaterialState.HOVERED: ft.colors.BLUE,\n",
    "        },\n",
    "        bgcolor={\n",
    "            ft.MaterialState.DEFAULT: ft.colors.BLUE,\n",
    "            ft.MaterialState.HOVERED: ft.colors.WHITE,\n",
    "        },\n",
    "        )\n",
    "    \n",
    "    btn5 = ft.ElevatedButton(\n",
    "        text=\"Botão com estilo personalizado\",\n",
    "        style=style\n",
    "        )\n",
    "    \n",
    "    page.add(btn1, btn2, btn3, btn4, btn5)\n",
    "\n",
    "ft.app(target=main)"
   ]
  },
  {
   "cell_type": "code",
   "execution_count": null,
   "metadata": {},
   "outputs": [],
   "source": []
  },
  {
   "cell_type": "code",
   "execution_count": null,
   "metadata": {},
   "outputs": [],
   "source": []
  }
 ],
 "metadata": {
  "kernelspec": {
   "display_name": "Python 3",
   "language": "python",
   "name": "python3"
  },
  "language_info": {
   "codemirror_mode": {
    "name": "ipython",
    "version": 3
   },
   "file_extension": ".py",
   "mimetype": "text/x-python",
   "name": "python",
   "nbconvert_exporter": "python",
   "pygments_lexer": "ipython3",
   "version": "3.10.12"
  }
 },
 "nbformat": 4,
 "nbformat_minor": 2
}
